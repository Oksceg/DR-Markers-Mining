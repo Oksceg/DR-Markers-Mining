{
 "cells": [
  {
   "cell_type": "code",
   "execution_count": 2,
   "metadata": {},
   "outputs": [],
   "source": [
    "import gensim\n",
    "from gensim.models import word2vec"
   ]
  },
  {
   "cell_type": "code",
   "execution_count": 1,
   "metadata": {},
   "outputs": [],
   "source": [
    "fl = \"C:/ФИКЛ/Курсовая Извлечение Коннекторов/eksp_model/for_model_eksp.txt\"\n",
    "data = gensim.models.word2vec.LineSentence(fl)\n",
    "model = gensim.models.Word2Vec(data, size=150, window=5, iter=50, min_count=10)"
   ]
  },
  {
   "cell_type": "code",
   "execution_count": 2,
   "metadata": {},
   "outputs": [],
   "source": [
    "model.wv.save_word2vec_format('ekspmodel_connectors.txt', binary=False)"
   ]
  },
  {
   "cell_type": "code",
   "execution_count": 3,
   "metadata": {},
   "outputs": [],
   "source": [
    "model_ = gensim.models.KeyedVectors.load_word2vec_format(\"ekspmodel_connectors.txt\", binary=False)"
   ]
  },
  {
   "cell_type": "code",
   "execution_count": 5,
   "metadata": {},
   "outputs": [
    {
     "name": "stdout",
     "output_type": "stream",
     "text": [
      "правда 0.694\n",
      "наверное 0.648\n",
      "впрочем 0.630\n",
      "тоже 0.628\n",
      "да 0.592\n",
      "видимо 0.591\n",
      "пожалуй 0.586\n",
      "вот 0.574\n",
      "ведь 0.568\n",
      "помоему 0.558\n"
     ]
    }
   ],
   "source": [
    "res = []\n",
    "for i in model_.most_similar(positive=[\"кстати\"], topn=10):\n",
    "    for el in i[0].split():\n",
    "        print(el, '{:.3f}'.format(i[1]))\n",
    "        res.append(str(el))"
   ]
  },
  {
   "cell_type": "code",
   "execution_count": 6,
   "metadata": {},
   "outputs": [
    {
     "name": "stdout",
     "output_type": "stream",
     "text": [
      "т.к. 0.784\n",
      "поэтому 0.753\n",
      "несмотря_на_то_что 0.730\n",
      "ибо 0.682\n",
      "но 0.668\n",
      "хотя 0.646\n",
      "ведь 0.614\n",
      "однако 0.600\n",
      "ли 0.578\n",
      "когда 0.568\n"
     ]
    }
   ],
   "source": [
    "res = []\n",
    "for i in model_.most_similar(positive=[\"поскольку\"], topn=10):\n",
    "    for el in i[0].split():\n",
    "        print(el, '{:.3f}'.format(i[1]))\n",
    "        res.append(str(el))"
   ]
  },
  {
   "cell_type": "code",
   "execution_count": 7,
   "metadata": {},
   "outputs": [
    {
     "name": "stdout",
     "output_type": "stream",
     "text": [
      "но 0.864\n",
      "ведь 0.771\n",
      "поскольку 0.753\n",
      "хотя 0.691\n",
      "ибо 0.689\n",
      "т.к. 0.684\n",
      "просто 0.662\n",
      "конечно 0.644\n",
      "разумеется 0.633\n",
      "вообще 0.626\n"
     ]
    }
   ],
   "source": [
    "for i in model_.most_similar(positive=[\"поэтому\"], topn=10):\n",
    "    for el in i[0].split():\n",
    "        print(el, '{:.3f}'.format(i[1]))\n",
    "        res.append(str(el))"
   ]
  },
  {
   "cell_type": "code",
   "execution_count": 8,
   "metadata": {},
   "outputs": [
    {
     "name": "stdout",
     "output_type": "stream",
     "text": [
      "ли 0.680\n",
      "пусть 0.669\n",
      "хотя 0.658\n",
      "обязательно 0.655\n",
      "ведь 0.647\n",
      "наверняка 0.637\n",
      "просто 0.587\n",
      "возможно 0.575\n",
      "непременно 0.574\n",
      "иначе 0.574\n"
     ]
    }
   ],
   "source": [
    "for i in model_.most_similar(positive=[\"если\"], topn=10):\n",
    "    for el in i[0].split():\n",
    "        print(el, '{:.3f}'.format(i[1]))\n",
    "        res.append(str(el))"
   ]
  },
  {
   "cell_type": "code",
   "execution_count": 9,
   "metadata": {},
   "outputs": [
    {
     "name": "stdout",
     "output_type": "stream",
     "text": [
      "чтоб 0.894\n",
      "дабы 0.793\n",
      "на_то_чтобы 0.675\n",
      "стараясь 0.606\n",
      "в_том_чтобы 0.600\n",
      "пытаясь 0.600\n",
      "пытаться 0.593\n",
      "чтобы... 0.586\n",
      "о_том_чтобы 0.573\n",
      "для_тогочтобы 0.573\n"
     ]
    }
   ],
   "source": [
    "for i in model_.most_similar(positive=[\"чтобы\"], topn=10):\n",
    "    for el in i[0].split():\n",
    "        print(el, '{:.3f}'.format(i[1]))\n",
    "        res.append(str(el))"
   ]
  },
  {
   "cell_type": "code",
   "execution_count": 10,
   "metadata": {},
   "outputs": [
    {
     "name": "stdout",
     "output_type": "stream",
     "text": [
      "но 0.758\n",
      "поэтому 0.691\n",
      "ведь 0.674\n",
      "если 0.658\n",
      "поскольку 0.646\n",
      "ибо 0.608\n",
      "вроде 0.604\n",
      "причем 0.600\n",
      "вообще 0.590\n",
      "даже 0.587\n"
     ]
    }
   ],
   "source": [
    "for i in model_.most_similar(positive=[\"хотя\"], topn=10):\n",
    "    for el in i[0].split():\n",
    "        print(el, '{:.3f}'.format(i[1]))\n",
    "        res.append(str(el))"
   ]
  },
  {
   "cell_type": "code",
   "execution_count": 11,
   "metadata": {},
   "outputs": [
    {
     "name": "stdout",
     "output_type": "stream",
     "text": [
      "заодно 0.578\n",
      "затем 0.550\n",
      "кроме_того 0.524\n",
      "следовательно 0.503\n",
      "вместе_с_тем 0.472\n",
      "кроме_этого 0.464\n",
      "помимо_этого 0.455\n",
      "ныне 0.451\n",
      "частности 0.429\n",
      "посему 0.403\n"
     ]
    }
   ],
   "source": [
    "for i in model_.most_similar(positive=[\"также\"], topn=10):\n",
    "    for el in i[0].split():\n",
    "        print(el, '{:.3f}'.format(i[1]))\n",
    "        res.append(str(el))"
   ]
  },
  {
   "cell_type": "code",
   "execution_count": null,
   "metadata": {},
   "outputs": [],
   "source": []
  }
 ],
 "metadata": {
  "kernelspec": {
   "display_name": "Python 3",
   "language": "python",
   "name": "python3"
  },
  "language_info": {
   "codemirror_mode": {
    "name": "ipython",
    "version": 3
   },
   "file_extension": ".py",
   "mimetype": "text/x-python",
   "name": "python",
   "nbconvert_exporter": "python",
   "pygments_lexer": "ipython3",
   "version": "3.8.2"
  }
 },
 "nbformat": 4,
 "nbformat_minor": 4
}
