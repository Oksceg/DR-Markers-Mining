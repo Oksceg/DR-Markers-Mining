{
 "cells": [
  {
   "cell_type": "code",
   "execution_count": 1,
   "metadata": {},
   "outputs": [],
   "source": [
    "import gensim\n",
    "from gensim.models import word2vec"
   ]
  },
  {
   "cell_type": "code",
   "execution_count": 2,
   "metadata": {},
   "outputs": [
    {
     "name": "stdout",
     "output_type": "stream",
     "text": [
      "Wall time: 3h 19min 28s\n"
     ]
    }
   ],
   "source": [
    "%%time\n",
    "fl = \"C:/ФИКЛ/Курсовая Извлечение Коннекторов/for_model_2.txt\"\n",
    "data = gensim.models.word2vec.LineSentence(fl)\n",
    "model = gensim.models.Word2Vec(data, size=150, window=5, iter=50, min_count=10)"
   ]
  },
  {
   "cell_type": "markdown",
   "metadata": {},
   "source": [
    "Сохраним модель в файл для возможности повторных запусков:"
   ]
  },
  {
   "cell_type": "code",
   "execution_count": 1,
   "metadata": {
    "collapsed": true
   },
   "outputs": [
    {
     ]
    }
   ],
   "source": [
    "model.wv.save_word2vec_format('model_connectors_w2v_2.txt', binary=False)"
   ]
  },
  {
   "cell_type": "markdown",
   "metadata": {},
   "source": [
    "Так, здесь показана загрузка модели из файла:"
   ]
  },
  {
   "cell_type": "code",
   "execution_count": 2,
   "metadata": {},
   "outputs": [],
   "source": [
    "model_ = gensim.models.KeyedVectors.load_word2vec_format(\"model_connectors_w2v_2.txt\", binary=False)"
   ]
  },
  {
   "cell_type": "markdown",
   "metadata": {},
   "source": [
    "### Проверим следующие союзы:\n",
    "- кстати — background\n",
    "- поскольку — Cause-Effect\n",
    "- поэтому — Evidence\n",
    "- если — Condition\n",
    "- чтобы — Purpose\n",
    "- хотя — Concession\n",
    "- также — Elabarotion"
   ]
  },
  {
   "cell_type": "code",
   "execution_count": 23,
   "metadata": {},
   "outputs": [
    {
     "name": "stdout",
     "output_type": "stream",
     "text": [
      "правда 0.701\n",
      "тоже 0.640\n",
      "наверное 0.631\n",
      "впрочем 0.624\n",
      "к_тому_же 0.610\n",
      "пожалуй 0.598\n",
      "видимо 0.578\n",
      "да 0.575\n",
      "ведь 0.563\n",
      "помоему 0.561\n"
     ]
    }
   ],
   "source": [
    "for i in model_.most_similar(positive=[\"кстати\"], topn=10):\n",
    "    for el in i[0].split():\n",
    "        print(el, '{:.3f}'.format(i[1]))\n",
    "        res.append(str(el))"
   ]
  },
  {
   "cell_type": "code",
   "execution_count": 3,
   "metadata": {},
   "outputs": [
    {
     "name": "stdout",
     "output_type": "stream",
     "text": [
      "так_как 0.967\n",
      "потому_что 0.799\n",
      "т.к. 0.795\n",
      "в_связи_с_тем_что 0.751\n",
      "поэтому 0.743\n",
      "ибо 0.679\n",
      "потому_как 0.655\n",
      "ведь 0.612\n",
      "но 0.611\n",
      "хотя 0.607\n"
     ]
    }
   ],
   "source": [
    "res = []\n",
    "for i in model_.most_similar(positive=[\"поскольку\"], topn=10):\n",
    "    for el in i[0].split():\n",
    "        print(el, '{:.3f}'.format(i[1]))\n",
    "        res.append(str(el))"
   ]
  },
  {
   "cell_type": "code",
   "execution_count": 4,
   "metadata": {},
   "outputs": [
    {
     "name": "stdout",
     "output_type": "stream",
     "text": [
      "но 0.860\n",
      "потому_что 0.855\n",
      "так_что 0.852\n",
      "так_как 0.793\n",
      "ведь 0.775\n",
      "поскольку 0.743\n",
      "потому_как 0.710\n",
      "к_тому_же 0.707\n",
      "хотя 0.699\n",
      "ибо 0.696\n"
     ]
    }
   ],
   "source": [
    "for i in model_.most_similar(positive=[\"поэтому\"], topn=10):\n",
    "    for el in i[0].split():\n",
    "        print(el, '{:.3f}'.format(i[1]))\n",
    "        res.append(str(el))"
   ]
  },
  {
   "cell_type": "code",
   "execution_count": 20,
   "metadata": {},
   "outputs": [
    {
     "name": "stdout",
     "output_type": "stream",
     "text": [
      "если_не 0.750\n",
      "в_случае_если 0.739\n",
      "пусть 0.682\n",
      "ведь 0.671\n",
      "ли 0.668\n",
      "при_условии_что 0.663\n",
      "обязательно 0.648\n",
      "если_уж 0.617\n",
      "или 0.588\n",
      "значит 0.586\n"
     ]
    }
   ],
   "source": [
    "for i in model_.most_similar(positive=[\"если\"], topn=10):\n",
    "    for el in i[0].split():\n",
    "        print(el, '{:.3f}'.format(i[1]))\n",
    "        res.append(str(el))"
   ]
  },
  {
   "cell_type": "code",
   "execution_count": 5,
   "metadata": {},
   "outputs": [
    {
     "name": "stdout",
     "output_type": "stream",
     "text": [
      "чтоб 0.876\n",
      "для_того_чтобы 0.869\n",
      "так_чтобы 0.781\n",
      "дабы 0.779\n",
      "чтобы_не 0.739\n",
      "что_бы 0.722\n",
      "только_чтобы 0.659\n",
      "ради_того_чтобы 0.654\n",
      "для_того_чтобы_не 0.640\n",
      "прежде_чем 0.609\n"
     ]
    }
   ],
   "source": [
    "for i in model_.most_similar(positive=[\"чтобы\"], topn=10):\n",
    "    for el in i[0].split():\n",
    "        print(el, '{:.3f}'.format(i[1]))\n",
    "        res.append(str(el))"
   ]
  },
  {
   "cell_type": "code",
   "execution_count": 22,
   "metadata": {},
   "outputs": [
    {
     "name": "stdout",
     "output_type": "stream",
     "text": [
      "но 0.741\n",
      "поэтому 0.699\n",
      "так_что 0.691\n",
      "потому_что 0.665\n",
      "ведь 0.653\n",
      "так_как 0.643\n",
      "даже 0.634\n",
      "потому_как 0.631\n",
      "вроде 0.611\n",
      "вообще 0.609\n"
     ]
    }
   ],
   "source": [
    "for i in model_.most_similar(positive=[\"хотя\"], topn=10):\n",
    "    for el in i[0].split():\n",
    "        print(el, '{:.3f}'.format(i[1]))\n",
    "        res.append(str(el))"
   ]
  },
  {
   "cell_type": "code",
   "execution_count": 24,
   "metadata": {},
   "outputs": [
    {
     "name": "stdout",
     "output_type": "stream",
     "text": [
      "заодно 0.577\n",
      "кроме_того 0.524\n",
      "затем 0.521\n",
      "следовательно 0.491\n",
      "вместе_с_тем 0.476\n",
      "потому 0.454\n",
      "в_то_же_время 0.449\n",
      "ныне 0.439\n",
      "частности 0.424\n",
      "посему 0.408\n"
     ]
    }
   ],
   "source": [
    "for i in model_.most_similar(positive=[\"также\"], topn=10):\n",
    "    for el in i[0].split():\n",
    "        print(el, '{:.3f}'.format(i[1]))\n",
    "        res.append(str(el))"
   ]
  },
  {
   "cell_type": "code",
   "execution_count": 25,
   "metadata": {},
   "outputs": [
    {
     "data": {
      "text/plain": [
       "['так_как',\n",
       " 'потому_что',\n",
       " 'т.к.',\n",
       " 'в_связи_с_тем_что',\n",
       " 'поэтому',\n",
       " 'ибо',\n",
       " 'потому_как',\n",
       " 'ведь',\n",
       " 'но',\n",
       " 'хотя',\n",
       " 'но',\n",
       " 'потому_что',\n",
       " 'так_что',\n",
       " 'так_как',\n",
       " 'ведь',\n",
       " 'поскольку',\n",
       " 'потому_как',\n",
       " 'к_тому_же',\n",
       " 'хотя',\n",
       " 'ибо',\n",
       " 'если_не',\n",
       " 'в_случае_если',\n",
       " 'пусть',\n",
       " 'ведь',\n",
       " 'ли',\n",
       " 'при_условии_что',\n",
       " 'обязательно',\n",
       " 'если_уж',\n",
       " 'или',\n",
       " 'значит',\n",
       " 'чтоб',\n",
       " 'для_того_чтобы',\n",
       " 'так_чтобы',\n",
       " 'дабы',\n",
       " 'чтобы_не',\n",
       " 'что_бы',\n",
       " 'только_чтобы',\n",
       " 'ради_того_чтобы',\n",
       " 'для_того_чтобы_не',\n",
       " 'прежде_чем',\n",
       " 'но',\n",
       " 'поэтому',\n",
       " 'так_что',\n",
       " 'потому_что',\n",
       " 'ведь',\n",
       " 'так_как',\n",
       " 'даже',\n",
       " 'потому_как',\n",
       " 'вроде',\n",
       " 'вообще',\n",
       " 'правда',\n",
       " 'тоже',\n",
       " 'наверное',\n",
       " 'впрочем',\n",
       " 'к_тому_же',\n",
       " 'пожалуй',\n",
       " 'видимо',\n",
       " 'да',\n",
       " 'ведь',\n",
       " 'помоему',\n",
       " 'заодно',\n",
       " 'кроме_того',\n",
       " 'затем',\n",
       " 'следовательно',\n",
       " 'вместе_с_тем',\n",
       " 'потому',\n",
       " 'в_то_же_время',\n",
       " 'ныне',\n",
       " 'частности',\n",
       " 'посему']"
      ]
     },
     "execution_count": 25,
     "metadata": {},
     "output_type": "execute_result"
    }
   ],
   "source": [
    "res"
   ]
  }
 ],
 "metadata": {
  "kernelspec": {
   "display_name": "Python 3",
   "language": "python",
   "name": "python3"
  },
  "language_info": {
   "codemirror_mode": {
    "name": "ipython",
    "version": 3
   },
   "file_extension": ".py",
   "mimetype": "text/x-python",
   "name": "python",
   "nbconvert_exporter": "python",
   "pygments_lexer": "ipython3",
   "version": "3.8.2"
  }
 },
 "nbformat": 4,
 "nbformat_minor": 4
}
